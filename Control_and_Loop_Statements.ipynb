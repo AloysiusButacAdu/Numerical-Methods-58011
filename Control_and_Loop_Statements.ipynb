{
  "nbformat": 4,
  "nbformat_minor": 0,
  "metadata": {
    "colab": {
      "name": "Control and Loop Statements.ipynb",
      "provenance": [],
      "authorship_tag": "ABX9TyNpQT5Hbt7VzZ8lIjRCk66E",
      "include_colab_link": true
    },
    "kernelspec": {
      "name": "python3",
      "display_name": "Python 3"
    },
    "language_info": {
      "name": "python"
    }
  },
  "cells": [
    {
      "cell_type": "markdown",
      "metadata": {
        "id": "view-in-github",
        "colab_type": "text"
      },
      "source": [
        "<a href=\"https://colab.research.google.com/github/AloysiusButacAdu/Numerical-Methods-58011/blob/main/Control_and_Loop_Statements.ipynb\" target=\"_parent\"><img src=\"https://colab.research.google.com/assets/colab-badge.svg\" alt=\"Open In Colab\"/></a>"
      ]
    },
    {
      "cell_type": "markdown",
      "source": [
        "## If Statement"
      ],
      "metadata": {
        "id": "neNg0dV6bp3G"
      }
    },
    {
      "cell_type": "code",
      "source": [
        " a = 112\n",
        " b = 100\n",
        "\n",
        " if b > a:\n",
        "   print(\"b is greater than a\")"
      ],
      "metadata": {
        "id": "1-ceCIrTbuRW"
      },
      "execution_count": 14,
      "outputs": []
    },
    {
      "cell_type": "markdown",
      "source": [
        "## If-Else (Elif) Statements"
      ],
      "metadata": {
        "id": "dOjJ9bOvcJkX"
      }
    },
    {
      "cell_type": "code",
      "source": [
        "if b > a:\n",
        "  print(\"b is greater than a\")\n",
        "elif b < a:\n",
        "  print(\"b is less than a\")"
      ],
      "metadata": {
        "colab": {
          "base_uri": "https://localhost:8080/"
        },
        "id": "nXd_bQWrb6FA",
        "outputId": "51f49e87-0f5f-4f29-8010-24e3ed8a3e4d"
      },
      "execution_count": 9,
      "outputs": [
        {
          "output_type": "stream",
          "name": "stdout",
          "text": [
            "b is greater than a\n"
          ]
        }
      ]
    },
    {
      "cell_type": "markdown",
      "source": [
        "## Else Statement"
      ],
      "metadata": {
        "id": "bn3HFSf_dl0x"
      }
    },
    {
      "cell_type": "code",
      "source": [
        "if b > a:\n",
        "  print(\"b is greater than a\")\n",
        "elif b < a:\n",
        "  print(\"b is less than a\")\n",
        "else: \n",
        "  print(\"b is equal to a\")"
      ],
      "metadata": {
        "colab": {
          "base_uri": "https://localhost:8080/"
        },
        "id": "pRjuYp2Bdnyr",
        "outputId": "d8cee996-6fd4-4ab8-a23a-2747c361e76f"
      },
      "execution_count": 12,
      "outputs": [
        {
          "output_type": "stream",
          "name": "stdout",
          "text": [
            "b is equal to a\n"
          ]
        }
      ]
    },
    {
      "cell_type": "markdown",
      "source": [
        "## Short Hand If Statement"
      ],
      "metadata": {
        "id": "mlkdFDf_d2-N"
      }
    },
    {
      "cell_type": "code",
      "source": [
        "if a > b : print(\"a is greater tha b\")"
      ],
      "metadata": {
        "colab": {
          "base_uri": "https://localhost:8080/"
        },
        "id": "DVR15kUed6TC",
        "outputId": "194dfd82-4996-44ab-b706-4164961b2382"
      },
      "execution_count": 15,
      "outputs": [
        {
          "output_type": "stream",
          "name": "stdout",
          "text": [
            "a is greater tha b\n"
          ]
        }
      ]
    },
    {
      "cell_type": "markdown",
      "source": [
        "## Short Hand If-Else Statement"
      ],
      "metadata": {
        "id": "vC8Fidi8eQ1h"
      }
    },
    {
      "cell_type": "code",
      "source": [
        "c = 25\n",
        "d = 40\n",
        "\n",
        "print(\"c is greater than d\") if c > d else print(\"d is greater than c\")"
      ],
      "metadata": {
        "colab": {
          "base_uri": "https://localhost:8080/"
        },
        "id": "9o1Y54TneUxE",
        "outputId": "9087ea3e-6911-43c2-b673-9239673ee47b"
      },
      "execution_count": 50,
      "outputs": [
        {
          "output_type": "stream",
          "name": "stdout",
          "text": [
            "d is greater than c\n"
          ]
        }
      ]
    },
    {
      "cell_type": "markdown",
      "source": [
        "## And logic - If both statements or operands are True"
      ],
      "metadata": {
        "id": "ndsIY9dTfOK9"
      }
    },
    {
      "cell_type": "code",
      "source": [
        "c = 25\n",
        "d = 40\n",
        "e = 30\n",
        "\n",
        "if d > c and e > c:\n",
        "  print(\"Both conditions must be True\")"
      ],
      "metadata": {
        "colab": {
          "base_uri": "https://localhost:8080/"
        },
        "id": "svEs4B8IfRu7",
        "outputId": "de2e4e32-75c9-4b5f-e7d7-8b9ca90cdb41"
      },
      "execution_count": 28,
      "outputs": [
        {
          "output_type": "stream",
          "name": "stdout",
          "text": [
            "Both conditions must be True\n"
          ]
        }
      ]
    },
    {
      "cell_type": "markdown",
      "source": [
        "## Or logic - If one of the operands of True"
      ],
      "metadata": {
        "id": "ZUo2lT0bgL-g"
      }
    },
    {
      "cell_type": "code",
      "source": [
        "if d > c or e > c:\n",
        "  print(\"One of the operands is True\")"
      ],
      "metadata": {
        "colab": {
          "base_uri": "https://localhost:8080/"
        },
        "id": "U2xzryxLgQY-",
        "outputId": "e9a3da0d-5e49-49eb-c979-6988cfe41ed3"
      },
      "execution_count": 29,
      "outputs": [
        {
          "output_type": "stream",
          "name": "stdout",
          "text": [
            "One of the operands is True\n"
          ]
        }
      ]
    },
    {
      "cell_type": "markdown",
      "source": [
        "## Nested If"
      ],
      "metadata": {
        "id": "a6cMOj17gjqP"
      }
    },
    {
      "cell_type": "code",
      "source": [
        "x = int(input())\n",
        "\n",
        "if x > 10:\n",
        "  print(\"x is above 10\")\n",
        "  if x > 20:\n",
        "    print(\"x is above 20\")\n",
        "    if x > 30:\n",
        "      print(\"x is above 30\")\n",
        "      if x > 40:\n",
        "        print(\"x is above 30\")\n",
        "      else:\n",
        "        print(\"x is not above 30\")\n",
        "    else:\n",
        "      print(\"x is not above 30\")\n",
        "  else:\n",
        "    print(\"x is not above 20\")"
      ],
      "metadata": {
        "colab": {
          "base_uri": "https://localhost:8080/"
        },
        "id": "tJVW6RXdgnRq",
        "outputId": "53aece5e-11bc-4c4c-bf2d-c74c77024fc4"
      },
      "execution_count": 32,
      "outputs": [
        {
          "output_type": "stream",
          "name": "stdout",
          "text": [
            "30\n",
            "x is above 10\n",
            "x is above 20\n",
            "x is not above 30\n"
          ]
        }
      ]
    },
    {
      "cell_type": "markdown",
      "source": [
        "## Applicatin 1: Write a program that determines if the input age is qualified to vote or not. The qualifying age is 18 years old and above."
      ],
      "metadata": {
        "id": "amFD5bFSinyw"
      }
    },
    {
      "cell_type": "code",
      "source": [
        "age = input(\"Input age: \")\n",
        "\n",
        "if int(age) >= 18:\n",
        "  print(\"You are qualified to vote!\")\n",
        "else:\n",
        "  print(\"You are not qualified to vote.\")"
      ],
      "metadata": {
        "colab": {
          "base_uri": "https://localhost:8080/"
        },
        "id": "Xf0U3_2gitNj",
        "outputId": "76f6a7ca-73c5-477e-cd3d-98e4d44c6945"
      },
      "execution_count": 36,
      "outputs": [
        {
          "output_type": "stream",
          "name": "stdout",
          "text": [
            "Input age: 15\n",
            "You are not qualified to vote.\n"
          ]
        }
      ]
    },
    {
      "cell_type": "markdown",
      "source": [
        "## Application 2: Write a program that determines if the input number is POSITIVE NEGATIVE, or Zero"
      ],
      "metadata": {
        "id": "UojPCtASjpnx"
      }
    },
    {
      "cell_type": "code",
      "source": [
        "input_num = int(input(\"Enter input number: \"))\n",
        "\n",
        "if input_num > 0:\n",
        "  print(\"The number is POSITIVE\")\n",
        "elif input_num == 0:\n",
        "  print(\"The number is Zero\")\n",
        "else:\n",
        "  print(\"The number is NEGATIVE\")"
      ],
      "metadata": {
        "colab": {
          "base_uri": "https://localhost:8080/"
        },
        "id": "xZmQ7cCmj2rf",
        "outputId": "c147b577-8779-479d-da25-1f5439f43e6f"
      },
      "execution_count": 40,
      "outputs": [
        {
          "output_type": "stream",
          "name": "stdout",
          "text": [
            "Enter input number: 0\n",
            "The number is Zero\n"
          ]
        }
      ]
    },
    {
      "cell_type": "markdown",
      "source": [
        "## For Loop"
      ],
      "metadata": {
        "id": "Bl2izPXZkTzc"
      }
    },
    {
      "cell_type": "code",
      "source": [
        "week = [\"Sunday\", \"Monday\", \"Tuesday\", \"Wednesday\", \"Thursday\", \"Friday\", \"Saturday\"]\n",
        "\n",
        "for day in week:\n",
        "  print(day)"
      ],
      "metadata": {
        "colab": {
          "base_uri": "https://localhost:8080/"
        },
        "id": "XnjbNR2fkgOM",
        "outputId": "4bb9c709-3e1e-482e-ed49-6ce430667cbd"
      },
      "execution_count": 42,
      "outputs": [
        {
          "output_type": "stream",
          "name": "stdout",
          "text": [
            "Sunday\n",
            "Monday\n",
            "Tuesday\n",
            "Wednesday\n",
            "Thursday\n",
            "Friday\n",
            "Saturday\n"
          ]
        }
      ]
    },
    {
      "cell_type": "code",
      "source": [
        "for day in week:\n",
        "  print(day)\n",
        "  if day is \"Thursday\":\n",
        "    break;"
      ],
      "metadata": {
        "colab": {
          "base_uri": "https://localhost:8080/"
        },
        "id": "tScZo6vPkkPP",
        "outputId": "f9734fa7-13aa-42e6-b60d-0389f4e2aaa9"
      },
      "execution_count": 45,
      "outputs": [
        {
          "output_type": "stream",
          "name": "stdout",
          "text": [
            "Sunday\n",
            "Monday\n",
            "Tuesday\n",
            "Wednesday\n",
            "Thursday\n"
          ]
        }
      ]
    },
    {
      "cell_type": "markdown",
      "source": [
        "## While Loop"
      ],
      "metadata": {
        "id": "YQ2Wel3GlY46"
      }
    },
    {
      "cell_type": "code",
      "source": [
        "i = 1\n",
        "while i < 6:\n",
        "  print(i);\n",
        "  if i == 3: break\n",
        "  i += 1"
      ],
      "metadata": {
        "colab": {
          "base_uri": "https://localhost:8080/"
        },
        "id": "lbBaTWwVlbBa",
        "outputId": "946a0a36-7937-473c-a844-8a05612b83dd"
      },
      "execution_count": 55,
      "outputs": [
        {
          "output_type": "stream",
          "name": "stdout",
          "text": [
            "1\n",
            "2\n",
            "3\n"
          ]
        }
      ]
    }
  ]
}