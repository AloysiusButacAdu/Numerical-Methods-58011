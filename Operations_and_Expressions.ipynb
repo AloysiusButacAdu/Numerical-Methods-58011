{
  "nbformat": 4,
  "nbformat_minor": 0,
  "metadata": {
    "colab": {
      "name": "Operations and Expressions.ipynb",
      "provenance": [],
      "authorship_tag": "ABX9TyNURWkvBm3EeG6TlMclqYsQ",
      "include_colab_link": true
    },
    "kernelspec": {
      "name": "python3",
      "display_name": "Python 3"
    },
    "language_info": {
      "name": "python"
    }
  },
  "cells": [
    {
      "cell_type": "markdown",
      "metadata": {
        "id": "view-in-github",
        "colab_type": "text"
      },
      "source": [
        "<a href=\"https://colab.research.google.com/github/AloysiusButacAdu/Numerical-Methods-58011/blob/main/Operations_and_Expressions.ipynb\" target=\"_parent\"><img src=\"https://colab.research.google.com/assets/colab-badge.svg\" alt=\"Open In Colab\"/></a>"
      ]
    },
    {
      "cell_type": "code",
      "execution_count": null,
      "metadata": {
        "colab": {
          "base_uri": "https://localhost:8080/"
        },
        "id": "BwfIlSKQHJ0g",
        "outputId": "7a3a831d-7869-4249-d15d-55ab2ecc250d"
      },
      "outputs": [
        {
          "output_type": "stream",
          "name": "stdout",
          "text": [
            "10>9\n",
            "True\n"
          ]
        }
      ],
      "source": [
        "print(\"10>9\")\n",
        "print(10>9)"
      ]
    },
    {
      "cell_type": "code",
      "source": [
        "print(\"10<9\")\n",
        "print(10<9)"
      ],
      "metadata": {
        "colab": {
          "base_uri": "https://localhost:8080/"
        },
        "id": "PvklQZxbKktj",
        "outputId": "2e9f10c7-1b14-46db-b673-aacc89dcf1cf"
      },
      "execution_count": null,
      "outputs": [
        {
          "output_type": "stream",
          "name": "stdout",
          "text": [
            "10<9\n",
            "False\n"
          ]
        }
      ]
    },
    {
      "cell_type": "code",
      "source": [
        "print(\"10==9\")\n",
        "print(10==9)"
      ],
      "metadata": {
        "colab": {
          "base_uri": "https://localhost:8080/"
        },
        "id": "I30sGiWGKnqU",
        "outputId": "92c34792-d0d7-448b-e2c8-df336ff0db25"
      },
      "execution_count": null,
      "outputs": [
        {
          "output_type": "stream",
          "name": "stdout",
          "text": [
            "10==9\n",
            "False\n"
          ]
        }
      ]
    },
    {
      "cell_type": "code",
      "source": [
        "a = 100\n",
        "b = 90\n",
        "\n",
        "print(a>b)\n",
        "print(a<b)\n",
        "print(a==b)"
      ],
      "metadata": {
        "colab": {
          "base_uri": "https://localhost:8080/"
        },
        "id": "3VaSSpwEKrpf",
        "outputId": "a04bef2c-50b4-4f31-b2dd-f63d7c3630bd"
      },
      "execution_count": null,
      "outputs": [
        {
          "output_type": "stream",
          "name": "stdout",
          "text": [
            "True\n",
            "False\n",
            "False\n"
          ]
        }
      ]
    },
    {
      "cell_type": "markdown",
      "source": [
        "## Bool Function"
      ],
      "metadata": {
        "id": "_Ku_eOcVLF5u"
      }
    },
    {
      "cell_type": "code",
      "source": [
        "print(bool(\"Hello\"))  ## True\n",
        "print(bool(15))       ## True\n",
        "\n",
        "print(bool(0))        ## False\n",
        "print(bool(1))        ## True\n",
        "\n",
        "print(bool(None))     ## True\n",
        "print(bool([]))       ## True"
      ],
      "metadata": {
        "colab": {
          "base_uri": "https://localhost:8080/"
        },
        "id": "lifryBAjK2V-",
        "outputId": "537208be-b012-44d4-acd4-2ff5bea06a66"
      },
      "execution_count": null,
      "outputs": [
        {
          "output_type": "stream",
          "name": "stdout",
          "text": [
            "True\n",
            "True\n",
            "False\n",
            "True\n",
            "False\n",
            "False\n"
          ]
        }
      ]
    },
    {
      "cell_type": "markdown",
      "source": [
        "## Functions can return a Boolean"
      ],
      "metadata": {
        "id": "nXFMPKo5LwdK"
      }
    },
    {
      "cell_type": "code",
      "source": [
        "def myFunction():\n",
        "  return False\n",
        "\n",
        "print(myFunction())"
      ],
      "metadata": {
        "colab": {
          "base_uri": "https://localhost:8080/"
        },
        "id": "KBv1cFGpLuNX",
        "outputId": "80692e14-4cf6-412e-a4d1-e46898d773dc"
      },
      "execution_count": null,
      "outputs": [
        {
          "output_type": "stream",
          "name": "stdout",
          "text": [
            "False\n"
          ]
        }
      ]
    },
    {
      "cell_type": "code",
      "source": [
        "if myFunction():\n",
        "  print(\"Yes\")\n",
        "else:\n",
        "  print(\"No\")"
      ],
      "metadata": {
        "colab": {
          "base_uri": "https://localhost:8080/"
        },
        "id": "ifBVM07SMQO-",
        "outputId": "2defc23b-3af2-4a37-ab8d-86ac945ea48d"
      },
      "execution_count": null,
      "outputs": [
        {
          "output_type": "stream",
          "name": "stdout",
          "text": [
            "No\n"
          ]
        }
      ]
    },
    {
      "cell_type": "markdown",
      "source": [
        "## Application 1"
      ],
      "metadata": {
        "id": "9qG6sgFxMxUy"
      }
    },
    {
      "cell_type": "code",
      "source": [
        "print(10>9)\n",
        "\n",
        "a = 6\n",
        "b = 7\n",
        "\n",
        "print(a==b)\n",
        "print(a!=a)"
      ],
      "metadata": {
        "colab": {
          "base_uri": "https://localhost:8080/"
        },
        "id": "uukP_QLfMzIa",
        "outputId": "55f1cde3-0da8-47f7-937a-f54443b8f706"
      },
      "execution_count": null,
      "outputs": [
        {
          "output_type": "stream",
          "name": "stdout",
          "text": [
            "True\n",
            "False\n",
            "False\n"
          ]
        }
      ]
    },
    {
      "cell_type": "markdown",
      "source": [
        "## Python Operators"
      ],
      "metadata": {
        "id": "qufeWA8CORg8"
      }
    },
    {
      "cell_type": "code",
      "source": [
        "print(10 + 9)\n",
        "print(10 - 9)\n",
        "print(10 * 2)   ## Multiplication\n",
        "print(10 ** 2)  ## Exponent\n",
        "print(10 / 2)   ## Division : returns float  \n",
        "print(10 / 3)   ## Division : returns float\n",
        "print(10 // 3)  ## Floor/Integer Division : returns int"
      ],
      "metadata": {
        "colab": {
          "base_uri": "https://localhost:8080/"
        },
        "id": "6zPm0sLIOTcU",
        "outputId": "6ce59c46-f4e6-4f87-80fd-cde7629415ce"
      },
      "execution_count": null,
      "outputs": [
        {
          "output_type": "stream",
          "name": "stdout",
          "text": [
            "19\n",
            "1\n",
            "20\n",
            "100\n",
            "5.0\n",
            "3.3333333333333335\n",
            "3\n"
          ]
        }
      ]
    },
    {
      "cell_type": "markdown",
      "source": [
        "## Python Bitwise Operators"
      ],
      "metadata": {
        "id": "kp2j5inNPgk5"
      }
    },
    {
      "cell_type": "code",
      "source": [
        "a = 60\n",
        "b = 13\n",
        "\n",
        "print(a & b)\n",
        "print(a | b)"
      ],
      "metadata": {
        "colab": {
          "base_uri": "https://localhost:8080/"
        },
        "id": "-_yv9gupPizs",
        "outputId": "2c0f7d03-097b-499c-b197-e9698d737ff3"
      },
      "execution_count": null,
      "outputs": [
        {
          "output_type": "stream",
          "name": "stdout",
          "text": [
            "12\n",
            "61\n"
          ]
        }
      ]
    },
    {
      "cell_type": "markdown",
      "source": [
        "## Python Assignment Operators"
      ],
      "metadata": {
        "id": "UyTDPaH7QNWF"
      }
    },
    {
      "cell_type": "code",
      "source": [
        "print(a)\n",
        "a=+3    ## [X] a = 3\n",
        "print(a)\n",
        "a+=3    ## [O] a = a + 3\n",
        "print(a)"
      ],
      "metadata": {
        "colab": {
          "base_uri": "https://localhost:8080/"
        },
        "id": "tTkMk4aSQQpk",
        "outputId": "3ee50ef9-f8f6-4332-d494-98344edaee52"
      },
      "execution_count": null,
      "outputs": [
        {
          "output_type": "stream",
          "name": "stdout",
          "text": [
            "63\n",
            "3\n"
          ]
        }
      ]
    },
    {
      "cell_type": "markdown",
      "source": [
        "## Python Logical Operators"
      ],
      "metadata": {
        "id": "kbn5kIdGRLc3"
      }
    },
    {
      "cell_type": "code",
      "source": [
        "a = True\n",
        "b = False\n",
        "\n",
        "print(a and b)\n",
        "print(a or b)\n",
        "print(not(a or b))"
      ],
      "metadata": {
        "colab": {
          "base_uri": "https://localhost:8080/"
        },
        "id": "4trUKojVRNRe",
        "outputId": "81d26c29-f8e9-4aa6-ae4e-85aba0d820f2"
      },
      "execution_count": null,
      "outputs": [
        {
          "output_type": "stream",
          "name": "stdout",
          "text": [
            "False\n",
            "True\n",
            "False\n"
          ]
        }
      ]
    },
    {
      "cell_type": "markdown",
      "source": [
        "## Python Identity Operators"
      ],
      "metadata": {
        "id": "qC7y4iT2Rkqd"
      }
    },
    {
      "cell_type": "code",
      "source": [
        "print(a is b)\n",
        "print(a is not b)"
      ],
      "metadata": {
        "colab": {
          "base_uri": "https://localhost:8080/"
        },
        "id": "5lo2BZvRRn8Z",
        "outputId": "f3d56442-2edc-45a7-f169-5f30ff22a9ff"
      },
      "execution_count": null,
      "outputs": [
        {
          "output_type": "stream",
          "name": "stdout",
          "text": [
            "False\n",
            "True\n"
          ]
        }
      ]
    }
  ]
}